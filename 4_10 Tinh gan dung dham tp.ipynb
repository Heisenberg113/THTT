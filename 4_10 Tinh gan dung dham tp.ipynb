{
 "cells": [
  {
   "cell_type": "code",
   "execution_count": 1,
   "metadata": {},
   "outputs": [],
   "source": [
    "#chia luoi\n",
    "from sympy import *\n",
    "f = lambda x: E ** sin(x)"
   ]
  },
  {
   "cell_type": "code",
   "execution_count": 2,
   "metadata": {},
   "outputs": [],
   "source": [
    "import numpy as np\n",
    "X = np.linspace(0, 2, 11)\n",
    "Y = [ f(x) for x in X]"
   ]
  },
  {
   "cell_type": "code",
   "execution_count": 3,
   "metadata": {},
   "outputs": [],
   "source": [
    "h = (2 - 0) / 10"
   ]
  },
  {
   "cell_type": "code",
   "execution_count": 4,
   "metadata": {},
   "outputs": [
    {
     "data": {
      "text/latex": [
       "$\\displaystyle -1.06899799271712$"
      ],
      "text/plain": [
       "-1.06899799271712"
      ]
     },
     "execution_count": 4,
     "metadata": {},
     "output_type": "execute_result"
    }
   ],
   "source": [
    "#Tinh gan dung dao ham\n",
    "#Dao ham cap 1 cong thuc 3 diem\n",
    "(-Y[2] + 4*Y[1] - 3*Y[0]) / 2 / h\n",
    "[ (Y[i+1] - Y[i-1]) / 2 / h for i in range(1, 10) ]\n",
    "(3*Y[10] - 4*Y[9] + Y[8]) / 2 /h"
   ]
  },
  {
   "cell_type": "code",
   "execution_count": 5,
   "metadata": {},
   "outputs": [
    {
     "data": {
      "text/plain": [
       "[1,\n",
       " 1.19546419510366,\n",
       " 1.35959834726278,\n",
       " 1.45161583358583,\n",
       " 1.42755807407983,\n",
       " 1.25338076749345,\n",
       " 0.920273659517131,\n",
       " 0.455344771376687,\n",
       " -0.0793386938800342,\n",
       " -0.601657013112956,\n",
       " -1.03311686799583]"
      ]
     },
     "execution_count": 5,
     "metadata": {},
     "output_type": "execute_result"
    }
   ],
   "source": [
    "from sympy import *\n",
    "x = symbols('x')\n",
    "f(x).diff()\n",
    "[ f(x).diff().subs(x, a) for a in X ]"
   ]
  },
  {
   "cell_type": "code",
   "execution_count": 6,
   "metadata": {},
   "outputs": [
    {
     "data": {
      "text/latex": [
       "$\\displaystyle -2.41317395838206$"
      ],
      "text/plain": [
       "-2.41317395838206"
      ]
     },
     "execution_count": 6,
     "metadata": {},
     "output_type": "execute_result"
    }
   ],
   "source": [
    "#Dao ham cap 2 cong thuc 3 diem\n",
    "(Y[2] - 2*Y[1] + Y[0]) / h**2\n",
    "[ (Y[i+1] - 2*Y[i] + Y[i-1]) / h**2 for i in range(1, 10) ]\n",
    "(Y[10] - 2*Y[9] + Y[8]) / h**2"
   ]
  },
  {
   "cell_type": "code",
   "execution_count": 7,
   "metadata": {},
   "outputs": [
    {
     "data": {
      "text/plain": [
       "[1,\n",
       " 0.929301913188167,\n",
       " 0.677444043744218,\n",
       " 0.204966423297511,\n",
       " -0.475279547307017,\n",
       " -1.27482037042070,\n",
       " -2.03361508936045,\n",
       " -2.56264238506971,\n",
       " -2.71364778348333,\n",
       " -2.44216166291121,\n",
       " -1.82747322357883]"
      ]
     },
     "execution_count": 7,
     "metadata": {},
     "output_type": "execute_result"
    }
   ],
   "source": [
    "f(x).diff(x, 2)\n",
    "[ f(x).diff(x, 2).subs(x, a) for a in X]"
   ]
  },
  {
   "cell_type": "code",
   "execution_count": 8,
   "metadata": {},
   "outputs": [
    {
     "data": {
      "text/latex": [
       "$\\displaystyle 4.22974590457531$"
      ],
      "text/plain": [
       "4.22974590457531"
      ]
     },
     "execution_count": 8,
     "metadata": {},
     "output_type": "execute_result"
    }
   ],
   "source": [
    "#Tinh gan dung tich phan\n",
    "#p2 hinh thang\n",
    "sum( [(X[i] - X[i-1]) * (Y[i] + Y[i-1]) / 2 for i in range(1,11)] ) # cong thuc tong quat"
   ]
  },
  {
   "cell_type": "code",
   "execution_count": 9,
   "metadata": {},
   "outputs": [
    {
     "data": {
      "text/latex": [
       "$\\displaystyle 0.0362438$"
      ],
      "text/plain": [
       "0.0362438"
      ]
     },
     "execution_count": 9,
     "metadata": {},
     "output_type": "execute_result"
    }
   ],
   "source": [
    "M2  = N(2 * E, 6)\n",
    "M2 * (2-0)**3 / 12 / 10**2\n"
   ]
  },
  {
   "cell_type": "code",
   "execution_count": 10,
   "metadata": {},
   "outputs": [
    {
     "data": {
      "text/latex": [
       "$\\displaystyle 190.377935175269$"
      ],
      "text/plain": [
       "190.377935175269"
      ]
     },
     "execution_count": 10,
     "metadata": {},
     "output_type": "execute_result"
    }
   ],
   "source": [
    "sqrt( M2 * (2-0)**3 / 12 / 10**-4 )"
   ]
  },
  {
   "cell_type": "code",
   "execution_count": 11,
   "metadata": {},
   "outputs": [
    {
     "data": {
      "text/latex": [
       "$\\displaystyle 4.23656453924313$"
      ],
      "text/plain": [
       "4.23656453924313"
      ]
     },
     "execution_count": 11,
     "metadata": {},
     "output_type": "execute_result"
    }
   ],
   "source": [
    "#p2 simpson\n",
    "sum ( [ (X[2*i] - X[2*i-2]) * (Y[2*i] + 4*Y[2*i-1] + Y[2*i-2]) / 6 for i in range(1, 6) ] )"
   ]
  },
  {
   "cell_type": "code",
   "execution_count": 12,
   "metadata": {},
   "outputs": [
    {
     "data": {
      "text/latex": [
       "$\\displaystyle 0.000724875154255745$"
      ],
      "text/plain": [
       "0.000724875154255745"
      ]
     },
     "execution_count": 12,
     "metadata": {},
     "output_type": "execute_result"
    }
   ],
   "source": [
    "M4 = N(15*E)\n",
    "M4 * (2-0)**5 / 180 / 10**4"
   ]
  },
  {
   "cell_type": "code",
   "execution_count": 13,
   "metadata": {},
   "outputs": [
    {
     "data": {
      "text/latex": [
       "$\\displaystyle 16.4083837133916$"
      ],
      "text/plain": [
       "16.4083837133916"
      ]
     },
     "execution_count": 13,
     "metadata": {},
     "output_type": "execute_result"
    }
   ],
   "source": [
    "( M4 * (2-0)**5 / 180 / 10**-4) ** (1/4)"
   ]
  },
  {
   "cell_type": "code",
   "execution_count": 14,
   "metadata": {},
   "outputs": [],
   "source": [
    "#Xay dung cong thuc tinh gan dung dao ham tich phan\n",
    "from sympy import *\n",
    "x, t, h, x0 = symbols('x t h x0')"
   ]
  },
  {
   "cell_type": "code",
   "execution_count": 15,
   "metadata": {},
   "outputs": [],
   "source": [
    "n = 2\n",
    "y = MatrixSymbol('Y',n , 1)\n",
    "D = [Y[i] for i in range(n)]"
   ]
  },
  {
   "cell_type": "code",
   "execution_count": 17,
   "metadata": {},
   "outputs": [],
   "source": [
    "P = D[0]\n",
    "for k in range(1, n):\n",
    "    for i in range (n - k):\n",
    "        D[i] = D[i+1] - D[i]\n",
    "    N = D[0]\n",
    "    for i in range(k):\n",
    "        N *= (t - i) / (i + 1)\n",
    "    P += N"
   ]
  },
  {
   "cell_type": "code",
   "execution_count": 18,
   "metadata": {},
   "outputs": [
    {
     "data": {
      "text/latex": [
       "$\\displaystyle 0.219778556000619 t + 1$"
      ],
      "text/plain": [
       "0.219778556000619*t + 1"
      ]
     },
     "execution_count": 18,
     "metadata": {},
     "output_type": "execute_result"
    }
   ],
   "source": [
    "P"
   ]
  },
  {
   "cell_type": "code",
   "execution_count": null,
   "metadata": {},
   "outputs": [],
   "source": []
  }
 ],
 "metadata": {
  "kernelspec": {
   "display_name": "Python 3",
   "language": "python",
   "name": "python3"
  },
  "language_info": {
   "codemirror_mode": {
    "name": "ipython",
    "version": 3
   },
   "file_extension": ".py",
   "mimetype": "text/x-python",
   "name": "python",
   "nbconvert_exporter": "python",
   "pygments_lexer": "ipython3",
   "version": "3.11.2"
  },
  "orig_nbformat": 4
 },
 "nbformat": 4,
 "nbformat_minor": 2
}
