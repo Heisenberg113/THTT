{
 "cells": [
  {
   "cell_type": "code",
   "execution_count": 2,
   "metadata": {},
   "outputs": [],
   "source": [
    "X = [-0.7, 1.7, -4.9, 3.1, -1.3]\n",
    "Y = [-2.9, -1.1, -2.9, 1.5, 0.8]\n",
    "Z = [7.1, 5.8, -3.1, -1, -8.7]"
   ]
  },
  {
   "cell_type": "code",
   "execution_count": 3,
   "metadata": {},
   "outputs": [],
   "source": [
    "from sympy import *\n",
    "x, y = symbols('x y')\n",
    "cs = [1 + 0*x, x, y]"
   ]
  },
  {
   "cell_type": "code",
   "execution_count": 4,
   "metadata": {},
   "outputs": [
    {
     "data": {
      "text/plain": [
       "[[1, 1, 1, 1, 1],\n",
       " [-0.700000000000000,\n",
       "  1.70000000000000,\n",
       "  -4.90000000000000,\n",
       "  3.10000000000000,\n",
       "  -1.30000000000000],\n",
       " [-2.90000000000000,\n",
       "  -1.10000000000000,\n",
       "  -2.90000000000000,\n",
       "  1.50000000000000,\n",
       "  0.800000000000000]]"
      ]
     },
     "execution_count": 4,
     "metadata": {},
     "output_type": "execute_result"
    }
   ],
   "source": [
    "V = [ [cs_i.subs({x: X_k, y: Y_k}) for (X_k, Y_k) in zip(X, Y)] for cs_i in cs ]\n",
    "V"
   ]
  },
  {
   "cell_type": "code",
   "execution_count": 5,
   "metadata": {},
   "outputs": [],
   "source": [
    "import numpy as np\n",
    "A = [ [np.dot(V_i, V_j) for V_j in V] for V_i in V]\n",
    "b = [np.dot(Z, V_i) for V_i in V]"
   ]
  },
  {
   "cell_type": "code",
   "execution_count": 6,
   "metadata": {},
   "outputs": [],
   "source": [
    "hs = np.linalg.solve(\n",
    "    np.array(A, dtype=float),\n",
    "    np.array(b, dtype=float)\n",
    ")"
   ]
  },
  {
   "cell_type": "code",
   "execution_count": 7,
   "metadata": {},
   "outputs": [],
   "source": [
    "P = hs.dot(cs)"
   ]
  },
  {
   "cell_type": "code",
   "execution_count": 9,
   "metadata": {},
   "outputs": [
    {
     "data": {
      "text/plain": [
       "[7.04160650623886,\n",
       " 5.80439239681887,\n",
       " -3.03246897710133,\n",
       " -0.939779411764706,\n",
       " -8.77375051419169]"
      ]
     },
     "execution_count": 9,
     "metadata": {},
     "output_type": "execute_result"
    }
   ],
   "source": [
    "[P.subs({x: X_k, y: Y_k}) for (X_k, Y_k) in zip(X, Y)]"
   ]
  },
  {
   "cell_type": "code",
   "execution_count": 10,
   "metadata": {},
   "outputs": [],
   "source": [
    "errors = [Z_k - P.subs({x: X_k, y: Y_k}) for (X_k, Y_k, Z_k) in zip(X, Y, Z)]"
   ]
  },
  {
   "cell_type": "code",
   "execution_count": 11,
   "metadata": {},
   "outputs": [
    {
     "data": {
      "text/plain": [
       "0.13059552024526358"
      ]
     },
     "execution_count": 11,
     "metadata": {},
     "output_type": "execute_result"
    }
   ],
   "source": [
    "np.linalg.norm( np.array(errors, dtype=float) )"
   ]
  },
  {
   "cell_type": "code",
   "execution_count": null,
   "metadata": {},
   "outputs": [],
   "source": []
  }
 ],
 "metadata": {
  "kernelspec": {
   "display_name": "Python 3",
   "language": "python",
   "name": "python3"
  },
  "language_info": {
   "codemirror_mode": {
    "name": "ipython",
    "version": 3
   },
   "file_extension": ".py",
   "mimetype": "text/x-python",
   "name": "python",
   "nbconvert_exporter": "python",
   "pygments_lexer": "ipython3",
   "version": "3.11.2"
  },
  "orig_nbformat": 4
 },
 "nbformat": 4,
 "nbformat_minor": 2
}
