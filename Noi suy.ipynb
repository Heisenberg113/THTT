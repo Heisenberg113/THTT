{
 "cells": [
  {
   "cell_type": "code",
   "execution_count": 1,
   "metadata": {},
   "outputs": [],
   "source": [
    "X = [0, 0.5, 1, 1.5, 2]\n",
    "Y = [-1, 0.125, 1, 2.375, 5]"
   ]
  },
  {
   "cell_type": "code",
   "execution_count": 10,
   "metadata": {},
   "outputs": [],
   "source": [
    "#Lagrange\n",
    "def L(i, x):\n",
    "    prod = 1\n",
    "    for j in range(4):\n",
    "        if j != i:\n",
    "            prod *= (x - X[j]) / (X[i] - X[j])\n",
    "    return prod"
   ]
  },
  {
   "cell_type": "code",
   "execution_count": 16,
   "metadata": {},
   "outputs": [],
   "source": [
    "P = 0\n",
    "for i in range(4):\n",
    "    P += Y[i] * L(i, x)"
   ]
  },
  {
   "cell_type": "code",
   "execution_count": 6,
   "metadata": {},
   "outputs": [],
   "source": [
    "from sympy import *\n",
    "x = symbols('x')"
   ]
  },
  {
   "cell_type": "code",
   "execution_count": 15,
   "metadata": {},
   "outputs": [
    {
     "name": "stdout",
     "output_type": "stream",
     "text": [
      "0\n"
     ]
    },
    {
     "data": {
      "text/latex": [
       "$\\displaystyle - 1.33333333333333 x^{3} + 4.0 x^{2} - 3.66666666666667 x + 1.0$"
      ],
      "text/plain": [
       "-1.33333333333333*x**3 + 4.0*x**2 - 3.66666666666667*x + 1.0"
      ]
     },
     "metadata": {},
     "output_type": "display_data"
    },
    {
     "name": "stdout",
     "output_type": "stream",
     "text": [
      "1\n"
     ]
    },
    {
     "data": {
      "text/latex": [
       "$\\displaystyle 4.0 x^{3} - 10.0 x^{2} + 6.0 x$"
      ],
      "text/plain": [
       "4.0*x**3 - 10.0*x**2 + 6.0*x"
      ]
     },
     "metadata": {},
     "output_type": "display_data"
    },
    {
     "name": "stdout",
     "output_type": "stream",
     "text": [
      "2\n"
     ]
    },
    {
     "data": {
      "text/latex": [
       "$\\displaystyle - 4.0 x^{3} + 8.0 x^{2} - 3.0 x$"
      ],
      "text/plain": [
       "-4.0*x**3 + 8.0*x**2 - 3.0*x"
      ]
     },
     "metadata": {},
     "output_type": "display_data"
    },
    {
     "name": "stdout",
     "output_type": "stream",
     "text": [
      "3\n"
     ]
    },
    {
     "data": {
      "text/latex": [
       "$\\displaystyle 1.33333333333333 x^{3} - 2.0 x^{2} + 0.666666666666667 x$"
      ],
      "text/plain": [
       "1.33333333333333*x**3 - 2.0*x**2 + 0.666666666666667*x"
      ]
     },
     "metadata": {},
     "output_type": "display_data"
    }
   ],
   "source": [
    "for i in range(4):\n",
    "    print(i)\n",
    "    L(i, x)\n",
    "    display(L(i, x).expand())"
   ]
  },
  {
   "cell_type": "code",
   "execution_count": 17,
   "metadata": {},
   "outputs": [
    {
     "data": {
      "text/latex": [
       "$\\displaystyle 1.0 x^{3} - 2.0 x^{2} + 3.0 x - 1.0$"
      ],
      "text/plain": [
       "1.0*x**3 - 2.0*x**2 + 3.0*x - 1.0"
      ]
     },
     "execution_count": 17,
     "metadata": {},
     "output_type": "execute_result"
    }
   ],
   "source": [
    "P\n",
    "P.expand()"
   ]
  },
  {
   "cell_type": "code",
   "execution_count": null,
   "metadata": {},
   "outputs": [],
   "source": []
  }
 ],
 "metadata": {
  "kernelspec": {
   "display_name": "Python 3",
   "language": "python",
   "name": "python3"
  },
  "language_info": {
   "codemirror_mode": {
    "name": "ipython",
    "version": 3
   },
   "file_extension": ".py",
   "mimetype": "text/x-python",
   "name": "python",
   "nbconvert_exporter": "python",
   "pygments_lexer": "ipython3",
   "version": "3.11.2"
  },
  "orig_nbformat": 4
 },
 "nbformat": 4,
 "nbformat_minor": 2
}
