{
 "cells": [
  {
   "cell_type": "code",
   "execution_count": 1,
   "metadata": {},
   "outputs": [],
   "source": [
    "import numpy as np\n",
    "B = np.array ( [[0.21, -0.28, 0.05],\n",
    "                [0.19, 0.01, -0.26],\n",
    "                [0.39, -0.12, -0.06]] )\n",
    "g = [-0.9, 3.8, -2.9]"
   ]
  },
  {
   "cell_type": "code",
   "execution_count": 2,
   "metadata": {},
   "outputs": [],
   "source": [
    "q = [-0.9, 3.8, 2.9]"
   ]
  },
  {
   "cell_type": "code",
   "execution_count": 3,
   "metadata": {},
   "outputs": [],
   "source": [
    "q = np.linalg.norm(B, np.inf)"
   ]
  },
  {
   "cell_type": "code",
   "execution_count": 4,
   "metadata": {},
   "outputs": [
    {
     "data": {
      "text/plain": [
       "0.5700000000000001"
      ]
     },
     "execution_count": 4,
     "metadata": {},
     "output_type": "execute_result"
    }
   ],
   "source": [
    "#kiem tra dieu kien q=||B|| < 1\n",
    "q"
   ]
  },
  {
   "cell_type": "code",
   "execution_count": 5,
   "metadata": {},
   "outputs": [
    {
     "name": "stdout",
     "output_type": "stream",
     "text": [
      "[-1.51  4.08 -3.08]\n",
      "[-2.5135  4.3547 -3.7937]\n",
      "[-2.836836  4.352344 -4.175207]\n"
     ]
    }
   ],
   "source": [
    "#tim nghiem gan dung sau 3 buoc lap\n",
    "x = [0, 2, -1]\n",
    "for _ in range(3): \n",
    "    x= B.dot(x) + g\n",
    "    print (x)"
   ]
  },
  {
   "cell_type": "code",
   "execution_count": 6,
   "metadata": {},
   "outputs": [
    {
     "name": "stdout",
     "output_type": "stream",
     "text": [
      "[-1.51  4.08 -3.08] 2.7572093023255824\n",
      "[-2.5135  4.3547 -3.7937] 1.3302209302325583\n",
      "[-2.836836  4.352344 -4.175207] 0.5057185813953496\n"
     ]
    }
   ],
   "source": [
    "#danh gia sai so cua nghiem gan dung\n",
    "x0 = [0, 2, -1]\n",
    "for _ in range(3):\n",
    "    x = B.dot(x0) + g\n",
    "    ss = q / (1 - q) * np.linalg.norm(x - x0, np.inf)\n",
    "    x0 = x\n",
    "    print(x,ss)"
   ]
  },
  {
   "cell_type": "code",
   "execution_count": 9,
   "metadata": {},
   "outputs": [
    {
     "name": "stdout",
     "output_type": "stream",
     "text": [
      "1 [-1.51  4.08 -3.08] 2.7572093023255824\n",
      "2 [-2.5135  4.3547 -3.7937] 1.3302209302325583\n",
      "3 [-2.836836  4.352344 -4.175207] 0.5057185813953496\n",
      "4 [-2.92315223  4.39007842 -4.2781349 ] 0.13643930930232454\n",
      "5 [-2.95699067  4.40081693 -4.31015069] 0.04485560770465101\n",
      "6 [-2.96870432  4.40281912 -4.32271535] 0.01665548818430217\n",
      "7 [-2.97235303  4.40388036 -4.32677006] 0.005374840480007469\n",
      "8 [-2.97361914  4.40425194 -4.32807712] 0.0017326198843711153\n",
      "9 [-2.97405442  4.40435493 -4.32853707] 0.0006097006850512354\n"
     ]
    }
   ],
   "source": [
    "#tim nghiem gan dung ss 10^-3\n",
    "x0 = [0, 2, -1]\n",
    "k = 0\n",
    "while True:\n",
    "    x = B.dot(x0) + g\n",
    "    ss = q / (1 - q) * np.linalg.norm(x - x0, np.inf)\n",
    "    x0 = x\n",
    "    k += 1\n",
    "    print(k,x,ss)\n",
    "    if ss < 10**-3:\n",
    "        break\n"
   ]
  },
  {
   "cell_type": "code",
   "execution_count": 10,
   "metadata": {},
   "outputs": [],
   "source": [
    "x0 = [0, 2, -1]\n",
    "x1 = B.dot(x0) + g"
   ]
  },
  {
   "cell_type": "code",
   "execution_count": 11,
   "metadata": {},
   "outputs": [
    {
     "data": {
      "text/latex": [
       "$\\displaystyle 35.5743563544289$"
      ],
      "text/plain": [
       "35.5743563544289"
      ]
     },
     "execution_count": 11,
     "metadata": {},
     "output_type": "execute_result"
    }
   ],
   "source": [
    "#Xac dinh so buoc lap can thuc hien de dat duoc nghiem co ss 10^-8 (cong thuc tien nghiem)\n",
    "from sympy import log\n",
    "log( 10**-8 * (1-q) / np.linalg.norm(x1 - x0, np.inf), q)"
   ]
  },
  {
   "cell_type": "code",
   "execution_count": 13,
   "metadata": {},
   "outputs": [
    {
     "name": "stdout",
     "output_type": "stream",
     "text": [
      "[-1.5100000000000002, 3.7931, -3.8840719999999997]\n",
      "[-2.4733716, 4.377849116, -4.1569124979200005]\n",
      "[-2.8530514133760003, 4.38249597207776, -4.289174817990771]\n",
      "[-2.9406984098902718, 4.400277714519227, -4.317555216520067]\n"
     ]
    }
   ],
   "source": [
    "#Dung cong thuc gauss seidel tim nghiem gan dung sau 4 buoc lap\n",
    "x = [0, 2, -1]\n",
    "for _ in range(4):\n",
    "    for i in range(3):\n",
    "        x[i] = B[i].dot(x) + g[i]\n",
    "    print(x)"
   ]
  },
  {
   "cell_type": "code",
   "execution_count": 14,
   "metadata": {},
   "outputs": [],
   "source": [
    "#he cheo troi (go phan nay trc sau do go tu tren xuong)\n",
    "A = [[-15.4, 1, 6.3], [-4.2, 10.8, 3.3], [-2.4, 5.3, 15.9]]\n",
    "b = [30, 25, -10]"
   ]
  },
  {
   "cell_type": "code",
   "execution_count": 15,
   "metadata": {},
   "outputs": [],
   "source": [
    "m = lambda i, j: -A[i][j] / A[i][i] if i != j else 0\n",
    "import numpy as np\n",
    "B = np.array([ [m(i, j) for j in range(3)] for i in range(3) ])"
   ]
  },
  {
   "cell_type": "code",
   "execution_count": 16,
   "metadata": {},
   "outputs": [],
   "source": [
    "g = [ b[i] / A[i][i] for i in range(3) ]"
   ]
  },
  {
   "cell_type": "code",
   "execution_count": 17,
   "metadata": {},
   "outputs": [
    {
     "data": {
      "text/plain": [
       "[-1.948051948051948, 2.314814814814815, -0.6289308176100629]"
      ]
     },
     "execution_count": 17,
     "metadata": {},
     "output_type": "execute_result"
    }
   ],
   "source": [
    "g"
   ]
  }
 ],
 "metadata": {
  "kernelspec": {
   "display_name": "Python 3",
   "language": "python",
   "name": "python3"
  },
  "language_info": {
   "codemirror_mode": {
    "name": "ipython",
    "version": 3
   },
   "file_extension": ".py",
   "mimetype": "text/x-python",
   "name": "python",
   "nbconvert_exporter": "python",
   "pygments_lexer": "ipython3",
   "version": "3.11.2"
  },
  "orig_nbformat": 4
 },
 "nbformat": 4,
 "nbformat_minor": 2
}
