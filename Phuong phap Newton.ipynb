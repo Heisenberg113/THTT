{
 "cells": [
  {
   "cell_type": "code",
   "execution_count": 1,
   "metadata": {},
   "outputs": [
    {
     "data": {
      "text/plain": [
       "(-1, 29)"
      ]
     },
     "execution_count": 1,
     "metadata": {},
     "output_type": "execute_result"
    }
   ],
   "source": [
    "f = lambda x: x**3 + 2*x - 4\n",
    "f(1), f(3)"
   ]
  },
  {
   "cell_type": "code",
   "execution_count": 2,
   "metadata": {},
   "outputs": [],
   "source": [
    "from sympy import *\n",
    "x = symbols ('x')"
   ]
  },
  {
   "cell_type": "code",
   "execution_count": 6,
   "metadata": {},
   "outputs": [
    {
     "name": "stdout",
     "output_type": "stream",
     "text": [
      "2.00000000000000\n",
      "1.42857142857143\n",
      "1.21033740129218\n"
     ]
    }
   ],
   "source": [
    "t = symbols ('t')\n",
    "df = lambda x : f ( t ) . diff () . subs (t , x )\n",
    "# chon x0 va tim nghiem gan dung toi xN\n",
    "x = 3.\n",
    "for _ in range (3) :\n",
    "    x = x - f ( x ) / df ( x)\n",
    "    print ( x )"
   ]
  },
  {
   "cell_type": "code",
   "execution_count": 12,
   "metadata": {},
   "outputs": [
    {
     "data": {
      "image/png": "[encoded data removed]",
      "text/plain": [
       "<Figure size 640x480 with 1 Axes>"
      ]
     },
     "metadata": {},
     "output_type": "display_data"
    },
    {
     "data": {
      "text/plain": [
       "<sympy.plotting.plot.Plot at 0x143e604c590>"
      ]
     },
     "execution_count": 12,
     "metadata": {},
     "output_type": "execute_result"
    }
   ],
   "source": [
    "#phuong phap newton danh gia M bang do thi\n",
    "x = symbols('x')\n",
    "plot ( abs( f(x).diff(x, 2) ), (x, 1, 3) )\n"
   ]
  },
  {
   "cell_type": "code",
   "execution_count": 13,
   "metadata": {},
   "outputs": [
    {
     "data": {
      "text/latex": [
       "$\\displaystyle 6 x$"
      ],
      "text/plain": [
       "6*x"
      ]
     },
     "execution_count": 13,
     "metadata": {},
     "output_type": "execute_result"
    }
   ],
   "source": [
    "f(x).diff(x,2) #thay x0"
   ]
  },
  {
   "cell_type": "code",
   "execution_count": 14,
   "metadata": {},
   "outputs": [
    {
     "name": "stdout",
     "output_type": "stream",
     "text": [
      "2.00000000000000 1.80000000000000\n",
      "1.42857142857143 0.587755102040816\n",
      "1.21033740129218 0.0857269631925394\n"
     ]
    }
   ],
   "source": [
    "M = 18\n",
    "m = min ( abs( df (1) ) , abs( df (3) ) )\n",
    "x0 = 3.\n",
    "for _ in range (3) :\n",
    "    x = x0 - f ( x0 ) / df ( x0 )\n",
    "    ss = M / 2 / m * ( x - x0 ) **2 # biến x và x0 đại diện cho xn và xn−1\n",
    "    x0 = x\n",
    "    print (x , ss )\n"
   ]
  },
  {
   "cell_type": "code",
   "execution_count": 15,
   "metadata": {},
   "outputs": [
    {
     "name": "stdout",
     "output_type": "stream",
     "text": [
      "1 2.00000000000000 1.80000000000000\n",
      "2 1.42857142857143 0.587755102040816\n",
      "3 1.21033740129218 0.0857269631925394\n",
      "4 1.18004408453297 0.00165183307249252\n",
      "5 1.17950918864115 5.15004507144997e-7\n"
     ]
    }
   ],
   "source": [
    "#Tim nghiem voi sai so cho truoc 10*n va cho biet so buoc lap da thuc hien\n",
    "x0 = 3.\n",
    "n = 0\n",
    "while True :\n",
    "    x = x0 - f ( x0 ) / df ( x0 )\n",
    "    ss = M / 2 / m * ( x - x0 ) **2\n",
    "    x0 = x\n",
    "    n += 1\n",
    "    print (n , x , ss )\n",
    "    if ss < 10** -6:\n",
    "        break"
   ]
  },
  {
   "cell_type": "code",
   "execution_count": 16,
   "metadata": {},
   "outputs": [
    {
     "name": "stdout",
     "output_type": "stream",
     "text": [
      "2.00000000000000\n",
      "1.72413793103448\n",
      "1.56642974998621\n",
      "1.46379486848367\n",
      "1.39262051354939\n"
     ]
    }
   ],
   "source": [
    "#Ap dung ct newton cai bien\n",
    "x = 3.\n",
    "for _ in range (5) :\n",
    "    x = x - f ( x ) / df (3)\n",
    "    print ( x )"
   ]
  },
  {
   "cell_type": "code",
   "execution_count": null,
   "metadata": {},
   "outputs": [],
   "source": []
  }
 ],
 "metadata": {
  "kernelspec": {
   "display_name": "Python 3",
   "language": "python",
   "name": "python3"
  },
  "language_info": {
   "codemirror_mode": {
    "name": "ipython",
    "version": 3
   },
   "file_extension": ".py",
   "mimetype": "text/x-python",
   "name": "python",
   "nbconvert_exporter": "python",
   "pygments_lexer": "ipython3",
   "version": "3.11.2"
  },
  "orig_nbformat": 4
 },
 "nbformat": 4,
 "nbformat_minor": 2
}
